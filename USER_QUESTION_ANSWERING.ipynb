{
  "nbformat": 4,
  "nbformat_minor": 0,
  "metadata": {
    "colab": {
      "provenance": []
    },
    "kernelspec": {
      "name": "python3",
      "display_name": "Python 3"
    },
    "language_info": {
      "name": "python"
    },
    "widgets": {
      "application/vnd.jupyter.widget-state+json": {
        "ac222a14a8a34edaa3427503cba40f1a": {
          "model_module": "@jupyter-widgets/controls",
          "model_name": "HBoxModel",
          "model_module_version": "1.5.0",
          "state": {
            "_dom_classes": [],
            "_model_module": "@jupyter-widgets/controls",
            "_model_module_version": "1.5.0",
            "_model_name": "HBoxModel",
            "_view_count": null,
            "_view_module": "@jupyter-widgets/controls",
            "_view_module_version": "1.5.0",
            "_view_name": "HBoxView",
            "box_style": "",
            "children": [
              "IPY_MODEL_d53db0e7f1074bc2aaf656429333fa4b",
              "IPY_MODEL_f0687d50ab65466c888229f2fa03c094",
              "IPY_MODEL_5aea3022bfaf4534953cd35f4822da32"
            ],
            "layout": "IPY_MODEL_6bd417390e05440f8526d81bf80a6b3e"
          }
        },
        "d53db0e7f1074bc2aaf656429333fa4b": {
          "model_module": "@jupyter-widgets/controls",
          "model_name": "HTMLModel",
          "model_module_version": "1.5.0",
          "state": {
            "_dom_classes": [],
            "_model_module": "@jupyter-widgets/controls",
            "_model_module_version": "1.5.0",
            "_model_name": "HTMLModel",
            "_view_count": null,
            "_view_module": "@jupyter-widgets/controls",
            "_view_module_version": "1.5.0",
            "_view_name": "HTMLView",
            "description": "",
            "description_tooltip": null,
            "layout": "IPY_MODEL_459954acbc03446491a09a4e9c7af046",
            "placeholder": "​",
            "style": "IPY_MODEL_b0e8e99cc044458db83e5782e9d7343d",
            "value": "config.json: 100%"
          }
        },
        "f0687d50ab65466c888229f2fa03c094": {
          "model_module": "@jupyter-widgets/controls",
          "model_name": "FloatProgressModel",
          "model_module_version": "1.5.0",
          "state": {
            "_dom_classes": [],
            "_model_module": "@jupyter-widgets/controls",
            "_model_module_version": "1.5.0",
            "_model_name": "FloatProgressModel",
            "_view_count": null,
            "_view_module": "@jupyter-widgets/controls",
            "_view_module_version": "1.5.0",
            "_view_name": "ProgressView",
            "bar_style": "success",
            "description": "",
            "description_tooltip": null,
            "layout": "IPY_MODEL_2625beb393b64cfd80e9489090a58bf5",
            "max": 473,
            "min": 0,
            "orientation": "horizontal",
            "style": "IPY_MODEL_7205dc08e52c4c6b8488638a000169f1",
            "value": 473
          }
        },
        "5aea3022bfaf4534953cd35f4822da32": {
          "model_module": "@jupyter-widgets/controls",
          "model_name": "HTMLModel",
          "model_module_version": "1.5.0",
          "state": {
            "_dom_classes": [],
            "_model_module": "@jupyter-widgets/controls",
            "_model_module_version": "1.5.0",
            "_model_name": "HTMLModel",
            "_view_count": null,
            "_view_module": "@jupyter-widgets/controls",
            "_view_module_version": "1.5.0",
            "_view_name": "HTMLView",
            "description": "",
            "description_tooltip": null,
            "layout": "IPY_MODEL_fe825e52a0b04a2b9469dd9c6e16911c",
            "placeholder": "​",
            "style": "IPY_MODEL_dafb85d74b88469080888bf05734b21b",
            "value": " 473/473 [00:00&lt;00:00, 9.04kB/s]"
          }
        },
        "6bd417390e05440f8526d81bf80a6b3e": {
          "model_module": "@jupyter-widgets/base",
          "model_name": "LayoutModel",
          "model_module_version": "1.2.0",
          "state": {
            "_model_module": "@jupyter-widgets/base",
            "_model_module_version": "1.2.0",
            "_model_name": "LayoutModel",
            "_view_count": null,
            "_view_module": "@jupyter-widgets/base",
            "_view_module_version": "1.2.0",
            "_view_name": "LayoutView",
            "align_content": null,
            "align_items": null,
            "align_self": null,
            "border": null,
            "bottom": null,
            "display": null,
            "flex": null,
            "flex_flow": null,
            "grid_area": null,
            "grid_auto_columns": null,
            "grid_auto_flow": null,
            "grid_auto_rows": null,
            "grid_column": null,
            "grid_gap": null,
            "grid_row": null,
            "grid_template_areas": null,
            "grid_template_columns": null,
            "grid_template_rows": null,
            "height": null,
            "justify_content": null,
            "justify_items": null,
            "left": null,
            "margin": null,
            "max_height": null,
            "max_width": null,
            "min_height": null,
            "min_width": null,
            "object_fit": null,
            "object_position": null,
            "order": null,
            "overflow": null,
            "overflow_x": null,
            "overflow_y": null,
            "padding": null,
            "right": null,
            "top": null,
            "visibility": null,
            "width": null
          }
        },
        "459954acbc03446491a09a4e9c7af046": {
          "model_module": "@jupyter-widgets/base",
          "model_name": "LayoutModel",
          "model_module_version": "1.2.0",
          "state": {
            "_model_module": "@jupyter-widgets/base",
            "_model_module_version": "1.2.0",
            "_model_name": "LayoutModel",
            "_view_count": null,
            "_view_module": "@jupyter-widgets/base",
            "_view_module_version": "1.2.0",
            "_view_name": "LayoutView",
            "align_content": null,
            "align_items": null,
            "align_self": null,
            "border": null,
            "bottom": null,
            "display": null,
            "flex": null,
            "flex_flow": null,
            "grid_area": null,
            "grid_auto_columns": null,
            "grid_auto_flow": null,
            "grid_auto_rows": null,
            "grid_column": null,
            "grid_gap": null,
            "grid_row": null,
            "grid_template_areas": null,
            "grid_template_columns": null,
            "grid_template_rows": null,
            "height": null,
            "justify_content": null,
            "justify_items": null,
            "left": null,
            "margin": null,
            "max_height": null,
            "max_width": null,
            "min_height": null,
            "min_width": null,
            "object_fit": null,
            "object_position": null,
            "order": null,
            "overflow": null,
            "overflow_x": null,
            "overflow_y": null,
            "padding": null,
            "right": null,
            "top": null,
            "visibility": null,
            "width": null
          }
        },
        "b0e8e99cc044458db83e5782e9d7343d": {
          "model_module": "@jupyter-widgets/controls",
          "model_name": "DescriptionStyleModel",
          "model_module_version": "1.5.0",
          "state": {
            "_model_module": "@jupyter-widgets/controls",
            "_model_module_version": "1.5.0",
            "_model_name": "DescriptionStyleModel",
            "_view_count": null,
            "_view_module": "@jupyter-widgets/base",
            "_view_module_version": "1.2.0",
            "_view_name": "StyleView",
            "description_width": ""
          }
        },
        "2625beb393b64cfd80e9489090a58bf5": {
          "model_module": "@jupyter-widgets/base",
          "model_name": "LayoutModel",
          "model_module_version": "1.2.0",
          "state": {
            "_model_module": "@jupyter-widgets/base",
            "_model_module_version": "1.2.0",
            "_model_name": "LayoutModel",
            "_view_count": null,
            "_view_module": "@jupyter-widgets/base",
            "_view_module_version": "1.2.0",
            "_view_name": "LayoutView",
            "align_content": null,
            "align_items": null,
            "align_self": null,
            "border": null,
            "bottom": null,
            "display": null,
            "flex": null,
            "flex_flow": null,
            "grid_area": null,
            "grid_auto_columns": null,
            "grid_auto_flow": null,
            "grid_auto_rows": null,
            "grid_column": null,
            "grid_gap": null,
            "grid_row": null,
            "grid_template_areas": null,
            "grid_template_columns": null,
            "grid_template_rows": null,
            "height": null,
            "justify_content": null,
            "justify_items": null,
            "left": null,
            "margin": null,
            "max_height": null,
            "max_width": null,
            "min_height": null,
            "min_width": null,
            "object_fit": null,
            "object_position": null,
            "order": null,
            "overflow": null,
            "overflow_x": null,
            "overflow_y": null,
            "padding": null,
            "right": null,
            "top": null,
            "visibility": null,
            "width": null
          }
        },
        "7205dc08e52c4c6b8488638a000169f1": {
          "model_module": "@jupyter-widgets/controls",
          "model_name": "ProgressStyleModel",
          "model_module_version": "1.5.0",
          "state": {
            "_model_module": "@jupyter-widgets/controls",
            "_model_module_version": "1.5.0",
            "_model_name": "ProgressStyleModel",
            "_view_count": null,
            "_view_module": "@jupyter-widgets/base",
            "_view_module_version": "1.2.0",
            "_view_name": "StyleView",
            "bar_color": null,
            "description_width": ""
          }
        },
        "fe825e52a0b04a2b9469dd9c6e16911c": {
          "model_module": "@jupyter-widgets/base",
          "model_name": "LayoutModel",
          "model_module_version": "1.2.0",
          "state": {
            "_model_module": "@jupyter-widgets/base",
            "_model_module_version": "1.2.0",
            "_model_name": "LayoutModel",
            "_view_count": null,
            "_view_module": "@jupyter-widgets/base",
            "_view_module_version": "1.2.0",
            "_view_name": "LayoutView",
            "align_content": null,
            "align_items": null,
            "align_self": null,
            "border": null,
            "bottom": null,
            "display": null,
            "flex": null,
            "flex_flow": null,
            "grid_area": null,
            "grid_auto_columns": null,
            "grid_auto_flow": null,
            "grid_auto_rows": null,
            "grid_column": null,
            "grid_gap": null,
            "grid_row": null,
            "grid_template_areas": null,
            "grid_template_columns": null,
            "grid_template_rows": null,
            "height": null,
            "justify_content": null,
            "justify_items": null,
            "left": null,
            "margin": null,
            "max_height": null,
            "max_width": null,
            "min_height": null,
            "min_width": null,
            "object_fit": null,
            "object_position": null,
            "order": null,
            "overflow": null,
            "overflow_x": null,
            "overflow_y": null,
            "padding": null,
            "right": null,
            "top": null,
            "visibility": null,
            "width": null
          }
        },
        "dafb85d74b88469080888bf05734b21b": {
          "model_module": "@jupyter-widgets/controls",
          "model_name": "DescriptionStyleModel",
          "model_module_version": "1.5.0",
          "state": {
            "_model_module": "@jupyter-widgets/controls",
            "_model_module_version": "1.5.0",
            "_model_name": "DescriptionStyleModel",
            "_view_count": null,
            "_view_module": "@jupyter-widgets/base",
            "_view_module_version": "1.2.0",
            "_view_name": "StyleView",
            "description_width": ""
          }
        },
        "d632da63759f413dab344389011397df": {
          "model_module": "@jupyter-widgets/controls",
          "model_name": "HBoxModel",
          "model_module_version": "1.5.0",
          "state": {
            "_dom_classes": [],
            "_model_module": "@jupyter-widgets/controls",
            "_model_module_version": "1.5.0",
            "_model_name": "HBoxModel",
            "_view_count": null,
            "_view_module": "@jupyter-widgets/controls",
            "_view_module_version": "1.5.0",
            "_view_name": "HBoxView",
            "box_style": "",
            "children": [
              "IPY_MODEL_e3b24e36fed24cb0833368542fb4cebd",
              "IPY_MODEL_4487418d39fd4d238f37cbe0fc0aaf3a",
              "IPY_MODEL_c17f41abf2a2491f9bb70750e8042867"
            ],
            "layout": "IPY_MODEL_92cfbc7876d54b01a3c1314847bf8fbd"
          }
        },
        "e3b24e36fed24cb0833368542fb4cebd": {
          "model_module": "@jupyter-widgets/controls",
          "model_name": "HTMLModel",
          "model_module_version": "1.5.0",
          "state": {
            "_dom_classes": [],
            "_model_module": "@jupyter-widgets/controls",
            "_model_module_version": "1.5.0",
            "_model_name": "HTMLModel",
            "_view_count": null,
            "_view_module": "@jupyter-widgets/controls",
            "_view_module_version": "1.5.0",
            "_view_name": "HTMLView",
            "description": "",
            "description_tooltip": null,
            "layout": "IPY_MODEL_f85cc133871f41ac810771bffcdf261d",
            "placeholder": "​",
            "style": "IPY_MODEL_0c061fc7e15d4387a99a3936cfc77ac2",
            "value": "model.safetensors: 100%"
          }
        },
        "4487418d39fd4d238f37cbe0fc0aaf3a": {
          "model_module": "@jupyter-widgets/controls",
          "model_name": "FloatProgressModel",
          "model_module_version": "1.5.0",
          "state": {
            "_dom_classes": [],
            "_model_module": "@jupyter-widgets/controls",
            "_model_module_version": "1.5.0",
            "_model_name": "FloatProgressModel",
            "_view_count": null,
            "_view_module": "@jupyter-widgets/controls",
            "_view_module_version": "1.5.0",
            "_view_name": "ProgressView",
            "bar_style": "success",
            "description": "",
            "description_tooltip": null,
            "layout": "IPY_MODEL_917a1c9f72b840d69d3798788df05f30",
            "max": 260782156,
            "min": 0,
            "orientation": "horizontal",
            "style": "IPY_MODEL_c835d49b2d5f4c58a61916429a48ff8e",
            "value": 260782156
          }
        },
        "c17f41abf2a2491f9bb70750e8042867": {
          "model_module": "@jupyter-widgets/controls",
          "model_name": "HTMLModel",
          "model_module_version": "1.5.0",
          "state": {
            "_dom_classes": [],
            "_model_module": "@jupyter-widgets/controls",
            "_model_module_version": "1.5.0",
            "_model_name": "HTMLModel",
            "_view_count": null,
            "_view_module": "@jupyter-widgets/controls",
            "_view_module_version": "1.5.0",
            "_view_name": "HTMLView",
            "description": "",
            "description_tooltip": null,
            "layout": "IPY_MODEL_15dfa7cfc57c4c2c9571da7689e06a75",
            "placeholder": "​",
            "style": "IPY_MODEL_75c6d41e730a4a02b93b65cd7f65ab1d",
            "value": " 261M/261M [00:02&lt;00:00, 152MB/s]"
          }
        },
        "92cfbc7876d54b01a3c1314847bf8fbd": {
          "model_module": "@jupyter-widgets/base",
          "model_name": "LayoutModel",
          "model_module_version": "1.2.0",
          "state": {
            "_model_module": "@jupyter-widgets/base",
            "_model_module_version": "1.2.0",
            "_model_name": "LayoutModel",
            "_view_count": null,
            "_view_module": "@jupyter-widgets/base",
            "_view_module_version": "1.2.0",
            "_view_name": "LayoutView",
            "align_content": null,
            "align_items": null,
            "align_self": null,
            "border": null,
            "bottom": null,
            "display": null,
            "flex": null,
            "flex_flow": null,
            "grid_area": null,
            "grid_auto_columns": null,
            "grid_auto_flow": null,
            "grid_auto_rows": null,
            "grid_column": null,
            "grid_gap": null,
            "grid_row": null,
            "grid_template_areas": null,
            "grid_template_columns": null,
            "grid_template_rows": null,
            "height": null,
            "justify_content": null,
            "justify_items": null,
            "left": null,
            "margin": null,
            "max_height": null,
            "max_width": null,
            "min_height": null,
            "min_width": null,
            "object_fit": null,
            "object_position": null,
            "order": null,
            "overflow": null,
            "overflow_x": null,
            "overflow_y": null,
            "padding": null,
            "right": null,
            "top": null,
            "visibility": null,
            "width": null
          }
        },
        "f85cc133871f41ac810771bffcdf261d": {
          "model_module": "@jupyter-widgets/base",
          "model_name": "LayoutModel",
          "model_module_version": "1.2.0",
          "state": {
            "_model_module": "@jupyter-widgets/base",
            "_model_module_version": "1.2.0",
            "_model_name": "LayoutModel",
            "_view_count": null,
            "_view_module": "@jupyter-widgets/base",
            "_view_module_version": "1.2.0",
            "_view_name": "LayoutView",
            "align_content": null,
            "align_items": null,
            "align_self": null,
            "border": null,
            "bottom": null,
            "display": null,
            "flex": null,
            "flex_flow": null,
            "grid_area": null,
            "grid_auto_columns": null,
            "grid_auto_flow": null,
            "grid_auto_rows": null,
            "grid_column": null,
            "grid_gap": null,
            "grid_row": null,
            "grid_template_areas": null,
            "grid_template_columns": null,
            "grid_template_rows": null,
            "height": null,
            "justify_content": null,
            "justify_items": null,
            "left": null,
            "margin": null,
            "max_height": null,
            "max_width": null,
            "min_height": null,
            "min_width": null,
            "object_fit": null,
            "object_position": null,
            "order": null,
            "overflow": null,
            "overflow_x": null,
            "overflow_y": null,
            "padding": null,
            "right": null,
            "top": null,
            "visibility": null,
            "width": null
          }
        },
        "0c061fc7e15d4387a99a3936cfc77ac2": {
          "model_module": "@jupyter-widgets/controls",
          "model_name": "DescriptionStyleModel",
          "model_module_version": "1.5.0",
          "state": {
            "_model_module": "@jupyter-widgets/controls",
            "_model_module_version": "1.5.0",
            "_model_name": "DescriptionStyleModel",
            "_view_count": null,
            "_view_module": "@jupyter-widgets/base",
            "_view_module_version": "1.2.0",
            "_view_name": "StyleView",
            "description_width": ""
          }
        },
        "917a1c9f72b840d69d3798788df05f30": {
          "model_module": "@jupyter-widgets/base",
          "model_name": "LayoutModel",
          "model_module_version": "1.2.0",
          "state": {
            "_model_module": "@jupyter-widgets/base",
            "_model_module_version": "1.2.0",
            "_model_name": "LayoutModel",
            "_view_count": null,
            "_view_module": "@jupyter-widgets/base",
            "_view_module_version": "1.2.0",
            "_view_name": "LayoutView",
            "align_content": null,
            "align_items": null,
            "align_self": null,
            "border": null,
            "bottom": null,
            "display": null,
            "flex": null,
            "flex_flow": null,
            "grid_area": null,
            "grid_auto_columns": null,
            "grid_auto_flow": null,
            "grid_auto_rows": null,
            "grid_column": null,
            "grid_gap": null,
            "grid_row": null,
            "grid_template_areas": null,
            "grid_template_columns": null,
            "grid_template_rows": null,
            "height": null,
            "justify_content": null,
            "justify_items": null,
            "left": null,
            "margin": null,
            "max_height": null,
            "max_width": null,
            "min_height": null,
            "min_width": null,
            "object_fit": null,
            "object_position": null,
            "order": null,
            "overflow": null,
            "overflow_x": null,
            "overflow_y": null,
            "padding": null,
            "right": null,
            "top": null,
            "visibility": null,
            "width": null
          }
        },
        "c835d49b2d5f4c58a61916429a48ff8e": {
          "model_module": "@jupyter-widgets/controls",
          "model_name": "ProgressStyleModel",
          "model_module_version": "1.5.0",
          "state": {
            "_model_module": "@jupyter-widgets/controls",
            "_model_module_version": "1.5.0",
            "_model_name": "ProgressStyleModel",
            "_view_count": null,
            "_view_module": "@jupyter-widgets/base",
            "_view_module_version": "1.2.0",
            "_view_name": "StyleView",
            "bar_color": null,
            "description_width": ""
          }
        },
        "15dfa7cfc57c4c2c9571da7689e06a75": {
          "model_module": "@jupyter-widgets/base",
          "model_name": "LayoutModel",
          "model_module_version": "1.2.0",
          "state": {
            "_model_module": "@jupyter-widgets/base",
            "_model_module_version": "1.2.0",
            "_model_name": "LayoutModel",
            "_view_count": null,
            "_view_module": "@jupyter-widgets/base",
            "_view_module_version": "1.2.0",
            "_view_name": "LayoutView",
            "align_content": null,
            "align_items": null,
            "align_self": null,
            "border": null,
            "bottom": null,
            "display": null,
            "flex": null,
            "flex_flow": null,
            "grid_area": null,
            "grid_auto_columns": null,
            "grid_auto_flow": null,
            "grid_auto_rows": null,
            "grid_column": null,
            "grid_gap": null,
            "grid_row": null,
            "grid_template_areas": null,
            "grid_template_columns": null,
            "grid_template_rows": null,
            "height": null,
            "justify_content": null,
            "justify_items": null,
            "left": null,
            "margin": null,
            "max_height": null,
            "max_width": null,
            "min_height": null,
            "min_width": null,
            "object_fit": null,
            "object_position": null,
            "order": null,
            "overflow": null,
            "overflow_x": null,
            "overflow_y": null,
            "padding": null,
            "right": null,
            "top": null,
            "visibility": null,
            "width": null
          }
        },
        "75c6d41e730a4a02b93b65cd7f65ab1d": {
          "model_module": "@jupyter-widgets/controls",
          "model_name": "DescriptionStyleModel",
          "model_module_version": "1.5.0",
          "state": {
            "_model_module": "@jupyter-widgets/controls",
            "_model_module_version": "1.5.0",
            "_model_name": "DescriptionStyleModel",
            "_view_count": null,
            "_view_module": "@jupyter-widgets/base",
            "_view_module_version": "1.2.0",
            "_view_name": "StyleView",
            "description_width": ""
          }
        },
        "578afc10aa0949eda722abd17a0fe302": {
          "model_module": "@jupyter-widgets/controls",
          "model_name": "HBoxModel",
          "model_module_version": "1.5.0",
          "state": {
            "_dom_classes": [],
            "_model_module": "@jupyter-widgets/controls",
            "_model_module_version": "1.5.0",
            "_model_name": "HBoxModel",
            "_view_count": null,
            "_view_module": "@jupyter-widgets/controls",
            "_view_module_version": "1.5.0",
            "_view_name": "HBoxView",
            "box_style": "",
            "children": [
              "IPY_MODEL_aa6bc4a841324cd1ad6870a972bf77cb",
              "IPY_MODEL_779d1716e9bb479ea7c07eeaae758bb1",
              "IPY_MODEL_a700a2b82171425e8676e229a830abb3"
            ],
            "layout": "IPY_MODEL_dccdb5a0423c4d119b8cb10f2545df01"
          }
        },
        "aa6bc4a841324cd1ad6870a972bf77cb": {
          "model_module": "@jupyter-widgets/controls",
          "model_name": "HTMLModel",
          "model_module_version": "1.5.0",
          "state": {
            "_dom_classes": [],
            "_model_module": "@jupyter-widgets/controls",
            "_model_module_version": "1.5.0",
            "_model_name": "HTMLModel",
            "_view_count": null,
            "_view_module": "@jupyter-widgets/controls",
            "_view_module_version": "1.5.0",
            "_view_name": "HTMLView",
            "description": "",
            "description_tooltip": null,
            "layout": "IPY_MODEL_f606837555f44e2e965e473eeb27eba3",
            "placeholder": "​",
            "style": "IPY_MODEL_34946ce28a894ef789a2af97c14841ef",
            "value": "tokenizer_config.json: 100%"
          }
        },
        "779d1716e9bb479ea7c07eeaae758bb1": {
          "model_module": "@jupyter-widgets/controls",
          "model_name": "FloatProgressModel",
          "model_module_version": "1.5.0",
          "state": {
            "_dom_classes": [],
            "_model_module": "@jupyter-widgets/controls",
            "_model_module_version": "1.5.0",
            "_model_name": "FloatProgressModel",
            "_view_count": null,
            "_view_module": "@jupyter-widgets/controls",
            "_view_module_version": "1.5.0",
            "_view_name": "ProgressView",
            "bar_style": "success",
            "description": "",
            "description_tooltip": null,
            "layout": "IPY_MODEL_3cb633c37fae41c2b49e63067a565da5",
            "max": 49,
            "min": 0,
            "orientation": "horizontal",
            "style": "IPY_MODEL_632ffbf8861a445bb3c1c6fc609f6c3c",
            "value": 49
          }
        },
        "a700a2b82171425e8676e229a830abb3": {
          "model_module": "@jupyter-widgets/controls",
          "model_name": "HTMLModel",
          "model_module_version": "1.5.0",
          "state": {
            "_dom_classes": [],
            "_model_module": "@jupyter-widgets/controls",
            "_model_module_version": "1.5.0",
            "_model_name": "HTMLModel",
            "_view_count": null,
            "_view_module": "@jupyter-widgets/controls",
            "_view_module_version": "1.5.0",
            "_view_name": "HTMLView",
            "description": "",
            "description_tooltip": null,
            "layout": "IPY_MODEL_280d123712964156855f605680f8c4ea",
            "placeholder": "​",
            "style": "IPY_MODEL_4bff9c9495444b46bd70a7d7c0e2014c",
            "value": " 49.0/49.0 [00:00&lt;00:00, 2.12kB/s]"
          }
        },
        "dccdb5a0423c4d119b8cb10f2545df01": {
          "model_module": "@jupyter-widgets/base",
          "model_name": "LayoutModel",
          "model_module_version": "1.2.0",
          "state": {
            "_model_module": "@jupyter-widgets/base",
            "_model_module_version": "1.2.0",
            "_model_name": "LayoutModel",
            "_view_count": null,
            "_view_module": "@jupyter-widgets/base",
            "_view_module_version": "1.2.0",
            "_view_name": "LayoutView",
            "align_content": null,
            "align_items": null,
            "align_self": null,
            "border": null,
            "bottom": null,
            "display": null,
            "flex": null,
            "flex_flow": null,
            "grid_area": null,
            "grid_auto_columns": null,
            "grid_auto_flow": null,
            "grid_auto_rows": null,
            "grid_column": null,
            "grid_gap": null,
            "grid_row": null,
            "grid_template_areas": null,
            "grid_template_columns": null,
            "grid_template_rows": null,
            "height": null,
            "justify_content": null,
            "justify_items": null,
            "left": null,
            "margin": null,
            "max_height": null,
            "max_width": null,
            "min_height": null,
            "min_width": null,
            "object_fit": null,
            "object_position": null,
            "order": null,
            "overflow": null,
            "overflow_x": null,
            "overflow_y": null,
            "padding": null,
            "right": null,
            "top": null,
            "visibility": null,
            "width": null
          }
        },
        "f606837555f44e2e965e473eeb27eba3": {
          "model_module": "@jupyter-widgets/base",
          "model_name": "LayoutModel",
          "model_module_version": "1.2.0",
          "state": {
            "_model_module": "@jupyter-widgets/base",
            "_model_module_version": "1.2.0",
            "_model_name": "LayoutModel",
            "_view_count": null,
            "_view_module": "@jupyter-widgets/base",
            "_view_module_version": "1.2.0",
            "_view_name": "LayoutView",
            "align_content": null,
            "align_items": null,
            "align_self": null,
            "border": null,
            "bottom": null,
            "display": null,
            "flex": null,
            "flex_flow": null,
            "grid_area": null,
            "grid_auto_columns": null,
            "grid_auto_flow": null,
            "grid_auto_rows": null,
            "grid_column": null,
            "grid_gap": null,
            "grid_row": null,
            "grid_template_areas": null,
            "grid_template_columns": null,
            "grid_template_rows": null,
            "height": null,
            "justify_content": null,
            "justify_items": null,
            "left": null,
            "margin": null,
            "max_height": null,
            "max_width": null,
            "min_height": null,
            "min_width": null,
            "object_fit": null,
            "object_position": null,
            "order": null,
            "overflow": null,
            "overflow_x": null,
            "overflow_y": null,
            "padding": null,
            "right": null,
            "top": null,
            "visibility": null,
            "width": null
          }
        },
        "34946ce28a894ef789a2af97c14841ef": {
          "model_module": "@jupyter-widgets/controls",
          "model_name": "DescriptionStyleModel",
          "model_module_version": "1.5.0",
          "state": {
            "_model_module": "@jupyter-widgets/controls",
            "_model_module_version": "1.5.0",
            "_model_name": "DescriptionStyleModel",
            "_view_count": null,
            "_view_module": "@jupyter-widgets/base",
            "_view_module_version": "1.2.0",
            "_view_name": "StyleView",
            "description_width": ""
          }
        },
        "3cb633c37fae41c2b49e63067a565da5": {
          "model_module": "@jupyter-widgets/base",
          "model_name": "LayoutModel",
          "model_module_version": "1.2.0",
          "state": {
            "_model_module": "@jupyter-widgets/base",
            "_model_module_version": "1.2.0",
            "_model_name": "LayoutModel",
            "_view_count": null,
            "_view_module": "@jupyter-widgets/base",
            "_view_module_version": "1.2.0",
            "_view_name": "LayoutView",
            "align_content": null,
            "align_items": null,
            "align_self": null,
            "border": null,
            "bottom": null,
            "display": null,
            "flex": null,
            "flex_flow": null,
            "grid_area": null,
            "grid_auto_columns": null,
            "grid_auto_flow": null,
            "grid_auto_rows": null,
            "grid_column": null,
            "grid_gap": null,
            "grid_row": null,
            "grid_template_areas": null,
            "grid_template_columns": null,
            "grid_template_rows": null,
            "height": null,
            "justify_content": null,
            "justify_items": null,
            "left": null,
            "margin": null,
            "max_height": null,
            "max_width": null,
            "min_height": null,
            "min_width": null,
            "object_fit": null,
            "object_position": null,
            "order": null,
            "overflow": null,
            "overflow_x": null,
            "overflow_y": null,
            "padding": null,
            "right": null,
            "top": null,
            "visibility": null,
            "width": null
          }
        },
        "632ffbf8861a445bb3c1c6fc609f6c3c": {
          "model_module": "@jupyter-widgets/controls",
          "model_name": "ProgressStyleModel",
          "model_module_version": "1.5.0",
          "state": {
            "_model_module": "@jupyter-widgets/controls",
            "_model_module_version": "1.5.0",
            "_model_name": "ProgressStyleModel",
            "_view_count": null,
            "_view_module": "@jupyter-widgets/base",
            "_view_module_version": "1.2.0",
            "_view_name": "StyleView",
            "bar_color": null,
            "description_width": ""
          }
        },
        "280d123712964156855f605680f8c4ea": {
          "model_module": "@jupyter-widgets/base",
          "model_name": "LayoutModel",
          "model_module_version": "1.2.0",
          "state": {
            "_model_module": "@jupyter-widgets/base",
            "_model_module_version": "1.2.0",
            "_model_name": "LayoutModel",
            "_view_count": null,
            "_view_module": "@jupyter-widgets/base",
            "_view_module_version": "1.2.0",
            "_view_name": "LayoutView",
            "align_content": null,
            "align_items": null,
            "align_self": null,
            "border": null,
            "bottom": null,
            "display": null,
            "flex": null,
            "flex_flow": null,
            "grid_area": null,
            "grid_auto_columns": null,
            "grid_auto_flow": null,
            "grid_auto_rows": null,
            "grid_column": null,
            "grid_gap": null,
            "grid_row": null,
            "grid_template_areas": null,
            "grid_template_columns": null,
            "grid_template_rows": null,
            "height": null,
            "justify_content": null,
            "justify_items": null,
            "left": null,
            "margin": null,
            "max_height": null,
            "max_width": null,
            "min_height": null,
            "min_width": null,
            "object_fit": null,
            "object_position": null,
            "order": null,
            "overflow": null,
            "overflow_x": null,
            "overflow_y": null,
            "padding": null,
            "right": null,
            "top": null,
            "visibility": null,
            "width": null
          }
        },
        "4bff9c9495444b46bd70a7d7c0e2014c": {
          "model_module": "@jupyter-widgets/controls",
          "model_name": "DescriptionStyleModel",
          "model_module_version": "1.5.0",
          "state": {
            "_model_module": "@jupyter-widgets/controls",
            "_model_module_version": "1.5.0",
            "_model_name": "DescriptionStyleModel",
            "_view_count": null,
            "_view_module": "@jupyter-widgets/base",
            "_view_module_version": "1.2.0",
            "_view_name": "StyleView",
            "description_width": ""
          }
        },
        "0457a9afc47a49a6a7e9133754894be5": {
          "model_module": "@jupyter-widgets/controls",
          "model_name": "HBoxModel",
          "model_module_version": "1.5.0",
          "state": {
            "_dom_classes": [],
            "_model_module": "@jupyter-widgets/controls",
            "_model_module_version": "1.5.0",
            "_model_name": "HBoxModel",
            "_view_count": null,
            "_view_module": "@jupyter-widgets/controls",
            "_view_module_version": "1.5.0",
            "_view_name": "HBoxView",
            "box_style": "",
            "children": [
              "IPY_MODEL_5ee25a9410324af2856feb8b43cb1227",
              "IPY_MODEL_bbcca89ddb0c4a3d9d1c2f28c0ac49a1",
              "IPY_MODEL_7e004bcef93c42bd993a8073b3659ce4"
            ],
            "layout": "IPY_MODEL_92aabbb23c574dd880238321065ee559"
          }
        },
        "5ee25a9410324af2856feb8b43cb1227": {
          "model_module": "@jupyter-widgets/controls",
          "model_name": "HTMLModel",
          "model_module_version": "1.5.0",
          "state": {
            "_dom_classes": [],
            "_model_module": "@jupyter-widgets/controls",
            "_model_module_version": "1.5.0",
            "_model_name": "HTMLModel",
            "_view_count": null,
            "_view_module": "@jupyter-widgets/controls",
            "_view_module_version": "1.5.0",
            "_view_name": "HTMLView",
            "description": "",
            "description_tooltip": null,
            "layout": "IPY_MODEL_007df5a5208f40febef93e6d4231c1d5",
            "placeholder": "​",
            "style": "IPY_MODEL_03ee603cf06c401cbc8962c6b7cef27a",
            "value": "vocab.txt: 100%"
          }
        },
        "bbcca89ddb0c4a3d9d1c2f28c0ac49a1": {
          "model_module": "@jupyter-widgets/controls",
          "model_name": "FloatProgressModel",
          "model_module_version": "1.5.0",
          "state": {
            "_dom_classes": [],
            "_model_module": "@jupyter-widgets/controls",
            "_model_module_version": "1.5.0",
            "_model_name": "FloatProgressModel",
            "_view_count": null,
            "_view_module": "@jupyter-widgets/controls",
            "_view_module_version": "1.5.0",
            "_view_name": "ProgressView",
            "bar_style": "success",
            "description": "",
            "description_tooltip": null,
            "layout": "IPY_MODEL_5f314b406df2489ca90ad82a910302be",
            "max": 213450,
            "min": 0,
            "orientation": "horizontal",
            "style": "IPY_MODEL_1a67e2fa60614baf880d1fb062ad9ac3",
            "value": 213450
          }
        },
        "7e004bcef93c42bd993a8073b3659ce4": {
          "model_module": "@jupyter-widgets/controls",
          "model_name": "HTMLModel",
          "model_module_version": "1.5.0",
          "state": {
            "_dom_classes": [],
            "_model_module": "@jupyter-widgets/controls",
            "_model_module_version": "1.5.0",
            "_model_name": "HTMLModel",
            "_view_count": null,
            "_view_module": "@jupyter-widgets/controls",
            "_view_module_version": "1.5.0",
            "_view_name": "HTMLView",
            "description": "",
            "description_tooltip": null,
            "layout": "IPY_MODEL_05b75baff2504421beb2e137f79acd34",
            "placeholder": "​",
            "style": "IPY_MODEL_9616f7ff540b410b8a68c4f29ac437ca",
            "value": " 213k/213k [00:00&lt;00:00, 6.18MB/s]"
          }
        },
        "92aabbb23c574dd880238321065ee559": {
          "model_module": "@jupyter-widgets/base",
          "model_name": "LayoutModel",
          "model_module_version": "1.2.0",
          "state": {
            "_model_module": "@jupyter-widgets/base",
            "_model_module_version": "1.2.0",
            "_model_name": "LayoutModel",
            "_view_count": null,
            "_view_module": "@jupyter-widgets/base",
            "_view_module_version": "1.2.0",
            "_view_name": "LayoutView",
            "align_content": null,
            "align_items": null,
            "align_self": null,
            "border": null,
            "bottom": null,
            "display": null,
            "flex": null,
            "flex_flow": null,
            "grid_area": null,
            "grid_auto_columns": null,
            "grid_auto_flow": null,
            "grid_auto_rows": null,
            "grid_column": null,
            "grid_gap": null,
            "grid_row": null,
            "grid_template_areas": null,
            "grid_template_columns": null,
            "grid_template_rows": null,
            "height": null,
            "justify_content": null,
            "justify_items": null,
            "left": null,
            "margin": null,
            "max_height": null,
            "max_width": null,
            "min_height": null,
            "min_width": null,
            "object_fit": null,
            "object_position": null,
            "order": null,
            "overflow": null,
            "overflow_x": null,
            "overflow_y": null,
            "padding": null,
            "right": null,
            "top": null,
            "visibility": null,
            "width": null
          }
        },
        "007df5a5208f40febef93e6d4231c1d5": {
          "model_module": "@jupyter-widgets/base",
          "model_name": "LayoutModel",
          "model_module_version": "1.2.0",
          "state": {
            "_model_module": "@jupyter-widgets/base",
            "_model_module_version": "1.2.0",
            "_model_name": "LayoutModel",
            "_view_count": null,
            "_view_module": "@jupyter-widgets/base",
            "_view_module_version": "1.2.0",
            "_view_name": "LayoutView",
            "align_content": null,
            "align_items": null,
            "align_self": null,
            "border": null,
            "bottom": null,
            "display": null,
            "flex": null,
            "flex_flow": null,
            "grid_area": null,
            "grid_auto_columns": null,
            "grid_auto_flow": null,
            "grid_auto_rows": null,
            "grid_column": null,
            "grid_gap": null,
            "grid_row": null,
            "grid_template_areas": null,
            "grid_template_columns": null,
            "grid_template_rows": null,
            "height": null,
            "justify_content": null,
            "justify_items": null,
            "left": null,
            "margin": null,
            "max_height": null,
            "max_width": null,
            "min_height": null,
            "min_width": null,
            "object_fit": null,
            "object_position": null,
            "order": null,
            "overflow": null,
            "overflow_x": null,
            "overflow_y": null,
            "padding": null,
            "right": null,
            "top": null,
            "visibility": null,
            "width": null
          }
        },
        "03ee603cf06c401cbc8962c6b7cef27a": {
          "model_module": "@jupyter-widgets/controls",
          "model_name": "DescriptionStyleModel",
          "model_module_version": "1.5.0",
          "state": {
            "_model_module": "@jupyter-widgets/controls",
            "_model_module_version": "1.5.0",
            "_model_name": "DescriptionStyleModel",
            "_view_count": null,
            "_view_module": "@jupyter-widgets/base",
            "_view_module_version": "1.2.0",
            "_view_name": "StyleView",
            "description_width": ""
          }
        },
        "5f314b406df2489ca90ad82a910302be": {
          "model_module": "@jupyter-widgets/base",
          "model_name": "LayoutModel",
          "model_module_version": "1.2.0",
          "state": {
            "_model_module": "@jupyter-widgets/base",
            "_model_module_version": "1.2.0",
            "_model_name": "LayoutModel",
            "_view_count": null,
            "_view_module": "@jupyter-widgets/base",
            "_view_module_version": "1.2.0",
            "_view_name": "LayoutView",
            "align_content": null,
            "align_items": null,
            "align_self": null,
            "border": null,
            "bottom": null,
            "display": null,
            "flex": null,
            "flex_flow": null,
            "grid_area": null,
            "grid_auto_columns": null,
            "grid_auto_flow": null,
            "grid_auto_rows": null,
            "grid_column": null,
            "grid_gap": null,
            "grid_row": null,
            "grid_template_areas": null,
            "grid_template_columns": null,
            "grid_template_rows": null,
            "height": null,
            "justify_content": null,
            "justify_items": null,
            "left": null,
            "margin": null,
            "max_height": null,
            "max_width": null,
            "min_height": null,
            "min_width": null,
            "object_fit": null,
            "object_position": null,
            "order": null,
            "overflow": null,
            "overflow_x": null,
            "overflow_y": null,
            "padding": null,
            "right": null,
            "top": null,
            "visibility": null,
            "width": null
          }
        },
        "1a67e2fa60614baf880d1fb062ad9ac3": {
          "model_module": "@jupyter-widgets/controls",
          "model_name": "ProgressStyleModel",
          "model_module_version": "1.5.0",
          "state": {
            "_model_module": "@jupyter-widgets/controls",
            "_model_module_version": "1.5.0",
            "_model_name": "ProgressStyleModel",
            "_view_count": null,
            "_view_module": "@jupyter-widgets/base",
            "_view_module_version": "1.2.0",
            "_view_name": "StyleView",
            "bar_color": null,
            "description_width": ""
          }
        },
        "05b75baff2504421beb2e137f79acd34": {
          "model_module": "@jupyter-widgets/base",
          "model_name": "LayoutModel",
          "model_module_version": "1.2.0",
          "state": {
            "_model_module": "@jupyter-widgets/base",
            "_model_module_version": "1.2.0",
            "_model_name": "LayoutModel",
            "_view_count": null,
            "_view_module": "@jupyter-widgets/base",
            "_view_module_version": "1.2.0",
            "_view_name": "LayoutView",
            "align_content": null,
            "align_items": null,
            "align_self": null,
            "border": null,
            "bottom": null,
            "display": null,
            "flex": null,
            "flex_flow": null,
            "grid_area": null,
            "grid_auto_columns": null,
            "grid_auto_flow": null,
            "grid_auto_rows": null,
            "grid_column": null,
            "grid_gap": null,
            "grid_row": null,
            "grid_template_areas": null,
            "grid_template_columns": null,
            "grid_template_rows": null,
            "height": null,
            "justify_content": null,
            "justify_items": null,
            "left": null,
            "margin": null,
            "max_height": null,
            "max_width": null,
            "min_height": null,
            "min_width": null,
            "object_fit": null,
            "object_position": null,
            "order": null,
            "overflow": null,
            "overflow_x": null,
            "overflow_y": null,
            "padding": null,
            "right": null,
            "top": null,
            "visibility": null,
            "width": null
          }
        },
        "9616f7ff540b410b8a68c4f29ac437ca": {
          "model_module": "@jupyter-widgets/controls",
          "model_name": "DescriptionStyleModel",
          "model_module_version": "1.5.0",
          "state": {
            "_model_module": "@jupyter-widgets/controls",
            "_model_module_version": "1.5.0",
            "_model_name": "DescriptionStyleModel",
            "_view_count": null,
            "_view_module": "@jupyter-widgets/base",
            "_view_module_version": "1.2.0",
            "_view_name": "StyleView",
            "description_width": ""
          }
        },
        "901cb499b2ef4401b440222474107075": {
          "model_module": "@jupyter-widgets/controls",
          "model_name": "HBoxModel",
          "model_module_version": "1.5.0",
          "state": {
            "_dom_classes": [],
            "_model_module": "@jupyter-widgets/controls",
            "_model_module_version": "1.5.0",
            "_model_name": "HBoxModel",
            "_view_count": null,
            "_view_module": "@jupyter-widgets/controls",
            "_view_module_version": "1.5.0",
            "_view_name": "HBoxView",
            "box_style": "",
            "children": [
              "IPY_MODEL_26f667f59fde43a4b5493d6cb19c30c9",
              "IPY_MODEL_d276868c31614e438b2e320345940c8b",
              "IPY_MODEL_f543a4554a1e4b93a77d144882164c1d"
            ],
            "layout": "IPY_MODEL_8ce263ee45f3424f89185f8f86b99ee0"
          }
        },
        "26f667f59fde43a4b5493d6cb19c30c9": {
          "model_module": "@jupyter-widgets/controls",
          "model_name": "HTMLModel",
          "model_module_version": "1.5.0",
          "state": {
            "_dom_classes": [],
            "_model_module": "@jupyter-widgets/controls",
            "_model_module_version": "1.5.0",
            "_model_name": "HTMLModel",
            "_view_count": null,
            "_view_module": "@jupyter-widgets/controls",
            "_view_module_version": "1.5.0",
            "_view_name": "HTMLView",
            "description": "",
            "description_tooltip": null,
            "layout": "IPY_MODEL_00d864382f1f4a7ebf719eb8e2eb0a6c",
            "placeholder": "​",
            "style": "IPY_MODEL_588ec2ab1db94123b762a95603cf4c49",
            "value": "tokenizer.json: 100%"
          }
        },
        "d276868c31614e438b2e320345940c8b": {
          "model_module": "@jupyter-widgets/controls",
          "model_name": "FloatProgressModel",
          "model_module_version": "1.5.0",
          "state": {
            "_dom_classes": [],
            "_model_module": "@jupyter-widgets/controls",
            "_model_module_version": "1.5.0",
            "_model_name": "FloatProgressModel",
            "_view_count": null,
            "_view_module": "@jupyter-widgets/controls",
            "_view_module_version": "1.5.0",
            "_view_name": "ProgressView",
            "bar_style": "success",
            "description": "",
            "description_tooltip": null,
            "layout": "IPY_MODEL_cc8bbc69a5154129a56f327515abf570",
            "max": 435797,
            "min": 0,
            "orientation": "horizontal",
            "style": "IPY_MODEL_d98ebffb3bbf4d8eb2621ae07806263e",
            "value": 435797
          }
        },
        "f543a4554a1e4b93a77d144882164c1d": {
          "model_module": "@jupyter-widgets/controls",
          "model_name": "HTMLModel",
          "model_module_version": "1.5.0",
          "state": {
            "_dom_classes": [],
            "_model_module": "@jupyter-widgets/controls",
            "_model_module_version": "1.5.0",
            "_model_name": "HTMLModel",
            "_view_count": null,
            "_view_module": "@jupyter-widgets/controls",
            "_view_module_version": "1.5.0",
            "_view_name": "HTMLView",
            "description": "",
            "description_tooltip": null,
            "layout": "IPY_MODEL_58f516711cb24f8ab447fc9558b11c0a",
            "placeholder": "​",
            "style": "IPY_MODEL_c3f0e3f4c8644155883cba735f4cef01",
            "value": " 436k/436k [00:00&lt;00:00, 17.7MB/s]"
          }
        },
        "8ce263ee45f3424f89185f8f86b99ee0": {
          "model_module": "@jupyter-widgets/base",
          "model_name": "LayoutModel",
          "model_module_version": "1.2.0",
          "state": {
            "_model_module": "@jupyter-widgets/base",
            "_model_module_version": "1.2.0",
            "_model_name": "LayoutModel",
            "_view_count": null,
            "_view_module": "@jupyter-widgets/base",
            "_view_module_version": "1.2.0",
            "_view_name": "LayoutView",
            "align_content": null,
            "align_items": null,
            "align_self": null,
            "border": null,
            "bottom": null,
            "display": null,
            "flex": null,
            "flex_flow": null,
            "grid_area": null,
            "grid_auto_columns": null,
            "grid_auto_flow": null,
            "grid_auto_rows": null,
            "grid_column": null,
            "grid_gap": null,
            "grid_row": null,
            "grid_template_areas": null,
            "grid_template_columns": null,
            "grid_template_rows": null,
            "height": null,
            "justify_content": null,
            "justify_items": null,
            "left": null,
            "margin": null,
            "max_height": null,
            "max_width": null,
            "min_height": null,
            "min_width": null,
            "object_fit": null,
            "object_position": null,
            "order": null,
            "overflow": null,
            "overflow_x": null,
            "overflow_y": null,
            "padding": null,
            "right": null,
            "top": null,
            "visibility": null,
            "width": null
          }
        },
        "00d864382f1f4a7ebf719eb8e2eb0a6c": {
          "model_module": "@jupyter-widgets/base",
          "model_name": "LayoutModel",
          "model_module_version": "1.2.0",
          "state": {
            "_model_module": "@jupyter-widgets/base",
            "_model_module_version": "1.2.0",
            "_model_name": "LayoutModel",
            "_view_count": null,
            "_view_module": "@jupyter-widgets/base",
            "_view_module_version": "1.2.0",
            "_view_name": "LayoutView",
            "align_content": null,
            "align_items": null,
            "align_self": null,
            "border": null,
            "bottom": null,
            "display": null,
            "flex": null,
            "flex_flow": null,
            "grid_area": null,
            "grid_auto_columns": null,
            "grid_auto_flow": null,
            "grid_auto_rows": null,
            "grid_column": null,
            "grid_gap": null,
            "grid_row": null,
            "grid_template_areas": null,
            "grid_template_columns": null,
            "grid_template_rows": null,
            "height": null,
            "justify_content": null,
            "justify_items": null,
            "left": null,
            "margin": null,
            "max_height": null,
            "max_width": null,
            "min_height": null,
            "min_width": null,
            "object_fit": null,
            "object_position": null,
            "order": null,
            "overflow": null,
            "overflow_x": null,
            "overflow_y": null,
            "padding": null,
            "right": null,
            "top": null,
            "visibility": null,
            "width": null
          }
        },
        "588ec2ab1db94123b762a95603cf4c49": {
          "model_module": "@jupyter-widgets/controls",
          "model_name": "DescriptionStyleModel",
          "model_module_version": "1.5.0",
          "state": {
            "_model_module": "@jupyter-widgets/controls",
            "_model_module_version": "1.5.0",
            "_model_name": "DescriptionStyleModel",
            "_view_count": null,
            "_view_module": "@jupyter-widgets/base",
            "_view_module_version": "1.2.0",
            "_view_name": "StyleView",
            "description_width": ""
          }
        },
        "cc8bbc69a5154129a56f327515abf570": {
          "model_module": "@jupyter-widgets/base",
          "model_name": "LayoutModel",
          "model_module_version": "1.2.0",
          "state": {
            "_model_module": "@jupyter-widgets/base",
            "_model_module_version": "1.2.0",
            "_model_name": "LayoutModel",
            "_view_count": null,
            "_view_module": "@jupyter-widgets/base",
            "_view_module_version": "1.2.0",
            "_view_name": "LayoutView",
            "align_content": null,
            "align_items": null,
            "align_self": null,
            "border": null,
            "bottom": null,
            "display": null,
            "flex": null,
            "flex_flow": null,
            "grid_area": null,
            "grid_auto_columns": null,
            "grid_auto_flow": null,
            "grid_auto_rows": null,
            "grid_column": null,
            "grid_gap": null,
            "grid_row": null,
            "grid_template_areas": null,
            "grid_template_columns": null,
            "grid_template_rows": null,
            "height": null,
            "justify_content": null,
            "justify_items": null,
            "left": null,
            "margin": null,
            "max_height": null,
            "max_width": null,
            "min_height": null,
            "min_width": null,
            "object_fit": null,
            "object_position": null,
            "order": null,
            "overflow": null,
            "overflow_x": null,
            "overflow_y": null,
            "padding": null,
            "right": null,
            "top": null,
            "visibility": null,
            "width": null
          }
        },
        "d98ebffb3bbf4d8eb2621ae07806263e": {
          "model_module": "@jupyter-widgets/controls",
          "model_name": "ProgressStyleModel",
          "model_module_version": "1.5.0",
          "state": {
            "_model_module": "@jupyter-widgets/controls",
            "_model_module_version": "1.5.0",
            "_model_name": "ProgressStyleModel",
            "_view_count": null,
            "_view_module": "@jupyter-widgets/base",
            "_view_module_version": "1.2.0",
            "_view_name": "StyleView",
            "bar_color": null,
            "description_width": ""
          }
        },
        "58f516711cb24f8ab447fc9558b11c0a": {
          "model_module": "@jupyter-widgets/base",
          "model_name": "LayoutModel",
          "model_module_version": "1.2.0",
          "state": {
            "_model_module": "@jupyter-widgets/base",
            "_model_module_version": "1.2.0",
            "_model_name": "LayoutModel",
            "_view_count": null,
            "_view_module": "@jupyter-widgets/base",
            "_view_module_version": "1.2.0",
            "_view_name": "LayoutView",
            "align_content": null,
            "align_items": null,
            "align_self": null,
            "border": null,
            "bottom": null,
            "display": null,
            "flex": null,
            "flex_flow": null,
            "grid_area": null,
            "grid_auto_columns": null,
            "grid_auto_flow": null,
            "grid_auto_rows": null,
            "grid_column": null,
            "grid_gap": null,
            "grid_row": null,
            "grid_template_areas": null,
            "grid_template_columns": null,
            "grid_template_rows": null,
            "height": null,
            "justify_content": null,
            "justify_items": null,
            "left": null,
            "margin": null,
            "max_height": null,
            "max_width": null,
            "min_height": null,
            "min_width": null,
            "object_fit": null,
            "object_position": null,
            "order": null,
            "overflow": null,
            "overflow_x": null,
            "overflow_y": null,
            "padding": null,
            "right": null,
            "top": null,
            "visibility": null,
            "width": null
          }
        },
        "c3f0e3f4c8644155883cba735f4cef01": {
          "model_module": "@jupyter-widgets/controls",
          "model_name": "DescriptionStyleModel",
          "model_module_version": "1.5.0",
          "state": {
            "_model_module": "@jupyter-widgets/controls",
            "_model_module_version": "1.5.0",
            "_model_name": "DescriptionStyleModel",
            "_view_count": null,
            "_view_module": "@jupyter-widgets/base",
            "_view_module_version": "1.2.0",
            "_view_name": "StyleView",
            "description_width": ""
          }
        }
      }
    }
  },
  "cells": [
    {
      "cell_type": "markdown",
      "source": [
        "**USER QUESTION ANSWERING PROJECT:**\n"
      ],
      "metadata": {
        "id": "2mGFNZIgxxxy"
      }
    },
    {
      "cell_type": "markdown",
      "source": [
        "Question answering (QA) is a computer science discipline within the fields of information retrieval and natural language processing (NLP) that is concerned with building systems that automatically answer questions that are posed by humans in a natural language."
      ],
      "metadata": {
        "id": "REY60pDpyBez"
      }
    },
    {
      "cell_type": "markdown",
      "source": [
        "**MODEL-1: USING TRANSFORMER MODEL**\n",
        "\n"
      ],
      "metadata": {
        "id": "wakvlqZfztrQ"
      }
    },
    {
      "cell_type": "code",
      "execution_count": 1,
      "metadata": {
        "colab": {
          "base_uri": "https://localhost:8080/"
        },
        "id": "A7PUBWY9qXue",
        "outputId": "8aea7b3f-3339-4106-c2e6-799828293e85"
      },
      "outputs": [
        {
          "output_type": "stream",
          "name": "stdout",
          "text": [
            "Requirement already satisfied: transformers in /usr/local/lib/python3.10/dist-packages (4.41.2)\n",
            "Requirement already satisfied: filelock in /usr/local/lib/python3.10/dist-packages (from transformers) (3.15.3)\n",
            "Requirement already satisfied: huggingface-hub<1.0,>=0.23.0 in /usr/local/lib/python3.10/dist-packages (from transformers) (0.23.4)\n",
            "Requirement already satisfied: numpy>=1.17 in /usr/local/lib/python3.10/dist-packages (from transformers) (1.25.2)\n",
            "Requirement already satisfied: packaging>=20.0 in /usr/local/lib/python3.10/dist-packages (from transformers) (24.1)\n",
            "Requirement already satisfied: pyyaml>=5.1 in /usr/local/lib/python3.10/dist-packages (from transformers) (6.0.1)\n",
            "Requirement already satisfied: regex!=2019.12.17 in /usr/local/lib/python3.10/dist-packages (from transformers) (2024.5.15)\n",
            "Requirement already satisfied: requests in /usr/local/lib/python3.10/dist-packages (from transformers) (2.31.0)\n",
            "Requirement already satisfied: tokenizers<0.20,>=0.19 in /usr/local/lib/python3.10/dist-packages (from transformers) (0.19.1)\n",
            "Requirement already satisfied: safetensors>=0.4.1 in /usr/local/lib/python3.10/dist-packages (from transformers) (0.4.3)\n",
            "Requirement already satisfied: tqdm>=4.27 in /usr/local/lib/python3.10/dist-packages (from transformers) (4.66.4)\n",
            "Requirement already satisfied: fsspec>=2023.5.0 in /usr/local/lib/python3.10/dist-packages (from huggingface-hub<1.0,>=0.23.0->transformers) (2023.6.0)\n",
            "Requirement already satisfied: typing-extensions>=3.7.4.3 in /usr/local/lib/python3.10/dist-packages (from huggingface-hub<1.0,>=0.23.0->transformers) (4.12.2)\n",
            "Requirement already satisfied: charset-normalizer<4,>=2 in /usr/local/lib/python3.10/dist-packages (from requests->transformers) (3.3.2)\n",
            "Requirement already satisfied: idna<4,>=2.5 in /usr/local/lib/python3.10/dist-packages (from requests->transformers) (3.7)\n",
            "Requirement already satisfied: urllib3<3,>=1.21.1 in /usr/local/lib/python3.10/dist-packages (from requests->transformers) (2.0.7)\n",
            "Requirement already satisfied: certifi>=2017.4.17 in /usr/local/lib/python3.10/dist-packages (from requests->transformers) (2024.6.2)\n"
          ]
        }
      ],
      "source": [
        "pip install transformers"
      ]
    },
    {
      "cell_type": "code",
      "source": [
        "from transformers import pipeline"
      ],
      "metadata": {
        "id": "Rz44zquqqce0"
      },
      "execution_count": 2,
      "outputs": []
    },
    {
      "cell_type": "code",
      "source": [
        "qa_model = pipeline(\"question-answering\")\n",
        "question = \"Where is the ball?\"\n",
        "context = \"The chair is near the table, and the ball is behind the chair.\"\n",
        "qa_response = qa_model(question = question, context = context)\n",
        "print(qa_response)"
      ],
      "metadata": {
        "colab": {
          "base_uri": "https://localhost:8080/",
          "height": 388,
          "referenced_widgets": [
            "ac222a14a8a34edaa3427503cba40f1a",
            "d53db0e7f1074bc2aaf656429333fa4b",
            "f0687d50ab65466c888229f2fa03c094",
            "5aea3022bfaf4534953cd35f4822da32",
            "6bd417390e05440f8526d81bf80a6b3e",
            "459954acbc03446491a09a4e9c7af046",
            "b0e8e99cc044458db83e5782e9d7343d",
            "2625beb393b64cfd80e9489090a58bf5",
            "7205dc08e52c4c6b8488638a000169f1",
            "fe825e52a0b04a2b9469dd9c6e16911c",
            "dafb85d74b88469080888bf05734b21b",
            "d632da63759f413dab344389011397df",
            "e3b24e36fed24cb0833368542fb4cebd",
            "4487418d39fd4d238f37cbe0fc0aaf3a",
            "c17f41abf2a2491f9bb70750e8042867",
            "92cfbc7876d54b01a3c1314847bf8fbd",
            "f85cc133871f41ac810771bffcdf261d",
            "0c061fc7e15d4387a99a3936cfc77ac2",
            "917a1c9f72b840d69d3798788df05f30",
            "c835d49b2d5f4c58a61916429a48ff8e",
            "15dfa7cfc57c4c2c9571da7689e06a75",
            "75c6d41e730a4a02b93b65cd7f65ab1d",
            "578afc10aa0949eda722abd17a0fe302",
            "aa6bc4a841324cd1ad6870a972bf77cb",
            "779d1716e9bb479ea7c07eeaae758bb1",
            "a700a2b82171425e8676e229a830abb3",
            "dccdb5a0423c4d119b8cb10f2545df01",
            "f606837555f44e2e965e473eeb27eba3",
            "34946ce28a894ef789a2af97c14841ef",
            "3cb633c37fae41c2b49e63067a565da5",
            "632ffbf8861a445bb3c1c6fc609f6c3c",
            "280d123712964156855f605680f8c4ea",
            "4bff9c9495444b46bd70a7d7c0e2014c",
            "0457a9afc47a49a6a7e9133754894be5",
            "5ee25a9410324af2856feb8b43cb1227",
            "bbcca89ddb0c4a3d9d1c2f28c0ac49a1",
            "7e004bcef93c42bd993a8073b3659ce4",
            "92aabbb23c574dd880238321065ee559",
            "007df5a5208f40febef93e6d4231c1d5",
            "03ee603cf06c401cbc8962c6b7cef27a",
            "5f314b406df2489ca90ad82a910302be",
            "1a67e2fa60614baf880d1fb062ad9ac3",
            "05b75baff2504421beb2e137f79acd34",
            "9616f7ff540b410b8a68c4f29ac437ca",
            "901cb499b2ef4401b440222474107075",
            "26f667f59fde43a4b5493d6cb19c30c9",
            "d276868c31614e438b2e320345940c8b",
            "f543a4554a1e4b93a77d144882164c1d",
            "8ce263ee45f3424f89185f8f86b99ee0",
            "00d864382f1f4a7ebf719eb8e2eb0a6c",
            "588ec2ab1db94123b762a95603cf4c49",
            "cc8bbc69a5154129a56f327515abf570",
            "d98ebffb3bbf4d8eb2621ae07806263e",
            "58f516711cb24f8ab447fc9558b11c0a",
            "c3f0e3f4c8644155883cba735f4cef01"
          ]
        },
        "id": "_WtBjWx8qxB-",
        "outputId": "00ea284b-cb7c-4d4b-9523-7aa2db4f30ea"
      },
      "execution_count": 3,
      "outputs": [
        {
          "output_type": "stream",
          "name": "stderr",
          "text": [
            "No model was supplied, defaulted to distilbert/distilbert-base-cased-distilled-squad and revision 626af31 (https://huggingface.co/distilbert/distilbert-base-cased-distilled-squad).\n",
            "Using a pipeline without specifying a model name and revision in production is not recommended.\n",
            "/usr/local/lib/python3.10/dist-packages/huggingface_hub/file_download.py:1132: FutureWarning: `resume_download` is deprecated and will be removed in version 1.0.0. Downloads always resume when possible. If you want to force a new download, use `force_download=True`.\n",
            "  warnings.warn(\n",
            "/usr/local/lib/python3.10/dist-packages/huggingface_hub/utils/_token.py:89: UserWarning: \n",
            "The secret `HF_TOKEN` does not exist in your Colab secrets.\n",
            "To authenticate with the Hugging Face Hub, create a token in your settings tab (https://huggingface.co/settings/tokens), set it as secret in your Google Colab and restart your session.\n",
            "You will be able to reuse this secret in all of your notebooks.\n",
            "Please note that authentication is recommended but still optional to access public models or datasets.\n",
            "  warnings.warn(\n"
          ]
        },
        {
          "output_type": "display_data",
          "data": {
            "text/plain": [
              "config.json:   0%|          | 0.00/473 [00:00<?, ?B/s]"
            ],
            "application/vnd.jupyter.widget-view+json": {
              "version_major": 2,
              "version_minor": 0,
              "model_id": "ac222a14a8a34edaa3427503cba40f1a"
            }
          },
          "metadata": {}
        },
        {
          "output_type": "display_data",
          "data": {
            "text/plain": [
              "model.safetensors:   0%|          | 0.00/261M [00:00<?, ?B/s]"
            ],
            "application/vnd.jupyter.widget-view+json": {
              "version_major": 2,
              "version_minor": 0,
              "model_id": "d632da63759f413dab344389011397df"
            }
          },
          "metadata": {}
        },
        {
          "output_type": "display_data",
          "data": {
            "text/plain": [
              "tokenizer_config.json:   0%|          | 0.00/49.0 [00:00<?, ?B/s]"
            ],
            "application/vnd.jupyter.widget-view+json": {
              "version_major": 2,
              "version_minor": 0,
              "model_id": "578afc10aa0949eda722abd17a0fe302"
            }
          },
          "metadata": {}
        },
        {
          "output_type": "display_data",
          "data": {
            "text/plain": [
              "vocab.txt:   0%|          | 0.00/213k [00:00<?, ?B/s]"
            ],
            "application/vnd.jupyter.widget-view+json": {
              "version_major": 2,
              "version_minor": 0,
              "model_id": "0457a9afc47a49a6a7e9133754894be5"
            }
          },
          "metadata": {}
        },
        {
          "output_type": "display_data",
          "data": {
            "text/plain": [
              "tokenizer.json:   0%|          | 0.00/436k [00:00<?, ?B/s]"
            ],
            "application/vnd.jupyter.widget-view+json": {
              "version_major": 2,
              "version_minor": 0,
              "model_id": "901cb499b2ef4401b440222474107075"
            }
          },
          "metadata": {}
        },
        {
          "output_type": "stream",
          "name": "stdout",
          "text": [
            "{'score': 0.8110511302947998, 'start': 45, 'end': 61, 'answer': 'behind the chair'}\n"
          ]
        }
      ]
    },
    {
      "cell_type": "code",
      "source": [
        "context = \"Python is a high-level, general-purpose programming language. Its design \" \\\n",
        "\"philosophy emphasizes code readability with the use of significant indentation. \" \\\n",
        "\"Python is dynamically typed and garbage-collected. It supports multiple programming \" \\\n",
        "\"paradigms, including structured (particularly procedural), object-oriented and \" \\\n",
        "\"functional programming. It is often described as a \\\"batteries included\\\" language \" \\\n",
        "\"due to its comprehensive standard library.\"\n",
        "\n",
        "question = \"What does the Python design emphasize?\"\n",
        "\n",
        "qa_response = qa_model(question = question, context = context)\n",
        "print(qa_response)"
      ],
      "metadata": {
        "colab": {
          "base_uri": "https://localhost:8080/"
        },
        "id": "OTknw9V8rDyU",
        "outputId": "5a376096-573b-4dad-d818-05abb65f95ea"
      },
      "execution_count": 4,
      "outputs": [
        {
          "output_type": "stream",
          "name": "stdout",
          "text": [
            "{'score': 0.7124277353286743, 'start': 95, 'end': 111, 'answer': 'code readability'}\n"
          ]
        }
      ]
    },
    {
      "cell_type": "markdown",
      "source": [
        "**MODEL-2: USING 20NEWSGROUPS DATASET**"
      ],
      "metadata": {
        "id": "Nw2wNsD20WSp"
      }
    },
    {
      "cell_type": "markdown",
      "source": [
        "1.IMPORTING THE LIBRARIES:"
      ],
      "metadata": {
        "id": "eLQqLoAd0doA"
      }
    },
    {
      "cell_type": "code",
      "source": [
        "import nltk\n",
        "nltk.download('punkt')\n",
        "nltk.download('averaged_perceptron_tagger')\n",
        "nltk.download('maxent_ne_chunker')\n",
        "nltk.download('words')"
      ],
      "metadata": {
        "colab": {
          "base_uri": "https://localhost:8080/"
        },
        "id": "h_m1K9aFr0dU",
        "outputId": "da20b825-12a6-422c-ff1b-bc81a7710dc7"
      },
      "execution_count": 5,
      "outputs": [
        {
          "output_type": "stream",
          "name": "stderr",
          "text": [
            "[nltk_data] Downloading package punkt to /root/nltk_data...\n",
            "[nltk_data]   Unzipping tokenizers/punkt.zip.\n",
            "[nltk_data] Downloading package averaged_perceptron_tagger to\n",
            "[nltk_data]     /root/nltk_data...\n",
            "[nltk_data]   Unzipping taggers/averaged_perceptron_tagger.zip.\n",
            "[nltk_data] Downloading package maxent_ne_chunker to\n",
            "[nltk_data]     /root/nltk_data...\n",
            "[nltk_data]   Unzipping chunkers/maxent_ne_chunker.zip.\n",
            "[nltk_data] Downloading package words to /root/nltk_data...\n",
            "[nltk_data]   Unzipping corpora/words.zip.\n"
          ]
        },
        {
          "output_type": "execute_result",
          "data": {
            "text/plain": [
              "True"
            ]
          },
          "metadata": {},
          "execution_count": 5
        }
      ]
    },
    {
      "cell_type": "markdown",
      "source": [
        "2.IMPORTING THE DATASET:"
      ],
      "metadata": {
        "id": "5tmRBBN20hLg"
      }
    },
    {
      "cell_type": "code",
      "source": [
        "from sklearn.datasets import fetch_20newsgroups\n",
        "newsgroups = fetch_20newsgroups(subset='train', categories=['comp.graphics'])\n",
        "print(newsgroups.data[0])"
      ],
      "metadata": {
        "colab": {
          "base_uri": "https://localhost:8080/"
        },
        "id": "SZD0t6v-txUN",
        "outputId": "18f993ee-4998-4884-e964-3fe795dd1a53"
      },
      "execution_count": 6,
      "outputs": [
        {
          "output_type": "stream",
          "name": "stdout",
          "text": [
            "From: bbs.mirage@tsoft.net (Jerry Lee)\n",
            "Subject: Cobra 2.0 1-b-1 Video card HELP ME!!!!\n",
            "Organization: The TSoft BBS and Public Access Unix, +1 415 969 8238\n",
            "Lines: 22\n",
            "\n",
            "Does ANYONE out there in Net-land have any information on the Cobra 2.20 \n",
            "card?  The sticker on the end of the card reads\n",
            "        Model: Cobra 1-B-1\n",
            "        Bios:  Cobra v2.20\n",
            "\n",
            "I Havn't been able to find anything about it from anyone!  If you have \n",
            "any information on how to get a hold of the company which produces the \n",
            "card or know where any drivers are for it, PLEASE let me know!\n",
            "\n",
            "As far as I can tell, it's a CGA card that is taking up 2 of my 16-bit \n",
            "ISA slots but when I enable the test patterns, it displays much more than \n",
            "the usualy 4 CGA colors... At least 16 from what I can count.. Thanks!\n",
            "\n",
            "              .------------------------------------------.\n",
            "              : Internet: jele@eis.calstate.edu          :\n",
            "              :           bbs.mirage@gilligan.tsoft.net  :\n",
            "              :           bbs.mirage@tsoft.sf-bay.org    :\n",
            "              :           mirage@thetech.com             :\n",
            "              : UUCP    : apple.com!tsoft!bbs.mirage     :\n",
            "              `------------------------------------------'\n",
            " \n",
            "                    Computer and Video Imaging Major\n",
            "\n"
          ]
        }
      ]
    },
    {
      "cell_type": "code",
      "source": [
        "sample_document = newsgroups.data[0]"
      ],
      "metadata": {
        "id": "dDstr7iZt9rm"
      },
      "execution_count": 7,
      "outputs": []
    },
    {
      "cell_type": "markdown",
      "source": [
        "3.TOKENIZATION:"
      ],
      "metadata": {
        "id": "dm5rgIuJ0kkp"
      }
    },
    {
      "cell_type": "code",
      "source": [
        "from nltk.tokenize import word_tokenize\n",
        "tokens = word_tokenize(newsgroups.data[0])\n",
        "print(tokens)"
      ],
      "metadata": {
        "colab": {
          "base_uri": "https://localhost:8080/"
        },
        "id": "CsZ8X9hIuXt6",
        "outputId": "5248bffa-1b80-4071-f6cb-508c99ec657c"
      },
      "execution_count": 8,
      "outputs": [
        {
          "output_type": "stream",
          "name": "stdout",
          "text": [
            "['From', ':', 'bbs.mirage', '@', 'tsoft.net', '(', 'Jerry', 'Lee', ')', 'Subject', ':', 'Cobra', '2.0', '1-b-1', 'Video', 'card', 'HELP', 'ME', '!', '!', '!', '!', 'Organization', ':', 'The', 'TSoft', 'BBS', 'and', 'Public', 'Access', 'Unix', ',', '+1', '415', '969', '8238', 'Lines', ':', '22', 'Does', 'ANYONE', 'out', 'there', 'in', 'Net-land', 'have', 'any', 'information', 'on', 'the', 'Cobra', '2.20', 'card', '?', 'The', 'sticker', 'on', 'the', 'end', 'of', 'the', 'card', 'reads', 'Model', ':', 'Cobra', '1-B-1', 'Bios', ':', 'Cobra', 'v2.20', 'I', 'Hav', \"n't\", 'been', 'able', 'to', 'find', 'anything', 'about', 'it', 'from', 'anyone', '!', 'If', 'you', 'have', 'any', 'information', 'on', 'how', 'to', 'get', 'a', 'hold', 'of', 'the', 'company', 'which', 'produces', 'the', 'card', 'or', 'know', 'where', 'any', 'drivers', 'are', 'for', 'it', ',', 'PLEASE', 'let', 'me', 'know', '!', 'As', 'far', 'as', 'I', 'can', 'tell', ',', 'it', \"'s\", 'a', 'CGA', 'card', 'that', 'is', 'taking', 'up', '2', 'of', 'my', '16-bit', 'ISA', 'slots', 'but', 'when', 'I', 'enable', 'the', 'test', 'patterns', ',', 'it', 'displays', 'much', 'more', 'than', 'the', 'usualy', '4', 'CGA', 'colors', '...', 'At', 'least', '16', 'from', 'what', 'I', 'can', 'count', '..', 'Thanks', '!', '.', '--', '--', '--', '--', '--', '--', '--', '--', '--', '--', '--', '--', '--', '--', '--', '--', '--', '--', '--', '--', '--', '.', ':', 'Internet', ':', 'jele', '@', 'eis.calstate.edu', ':', ':', 'bbs.mirage', '@', 'gilligan.tsoft.net', ':', ':', 'bbs.mirage', '@', 'tsoft.sf-bay.org', ':', ':', 'mirage', '@', 'thetech.com', ':', ':', 'UUCP', ':', 'apple.com', '!', 'tsoft', '!', 'bbs.mirage', ':', '`', '--', '--', '--', '--', '--', '--', '--', '--', '--', '--', '--', '--', '--', '--', '--', '--', '--', '--', '--', '--', '--', \"'\", 'Computer', 'and', 'Video', 'Imaging', 'Major']\n"
          ]
        }
      ]
    },
    {
      "cell_type": "markdown",
      "source": [
        "4.POS TAGGING:"
      ],
      "metadata": {
        "id": "pBSOROua0pLR"
      }
    },
    {
      "cell_type": "code",
      "source": [
        "from nltk import pos_tag\n",
        "pos_tags = pos_tag(tokens)\n",
        "print(pos_tags)"
      ],
      "metadata": {
        "colab": {
          "base_uri": "https://localhost:8080/"
        },
        "id": "SyQ9a20AuhoU",
        "outputId": "cfe826f4-f362-4ea7-8b5c-45c45a5d880b"
      },
      "execution_count": 9,
      "outputs": [
        {
          "output_type": "stream",
          "name": "stdout",
          "text": [
            "[('From', 'IN'), (':', ':'), ('bbs.mirage', 'NN'), ('@', 'JJ'), ('tsoft.net', 'NN'), ('(', '('), ('Jerry', 'NNP'), ('Lee', 'NNP'), (')', ')'), ('Subject', 'NN'), (':', ':'), ('Cobra', 'JJ'), ('2.0', 'CD'), ('1-b-1', 'JJ'), ('Video', 'NNP'), ('card', 'NN'), ('HELP', 'NNP'), ('ME', 'NNP'), ('!', '.'), ('!', '.'), ('!', '.'), ('!', '.'), ('Organization', 'NN'), (':', ':'), ('The', 'DT'), ('TSoft', 'NNP'), ('BBS', 'NNP'), ('and', 'CC'), ('Public', 'NNP'), ('Access', 'NNP'), ('Unix', 'NNP'), (',', ','), ('+1', 'VBD'), ('415', 'CD'), ('969', 'CD'), ('8238', 'CD'), ('Lines', 'NNS'), (':', ':'), ('22', 'CD'), ('Does', 'NNP'), ('ANYONE', 'NNP'), ('out', 'IN'), ('there', 'RB'), ('in', 'IN'), ('Net-land', 'NNP'), ('have', 'VBP'), ('any', 'DT'), ('information', 'NN'), ('on', 'IN'), ('the', 'DT'), ('Cobra', 'NNP'), ('2.20', 'CD'), ('card', 'NN'), ('?', '.'), ('The', 'DT'), ('sticker', 'NN'), ('on', 'IN'), ('the', 'DT'), ('end', 'NN'), ('of', 'IN'), ('the', 'DT'), ('card', 'NN'), ('reads', 'VBZ'), ('Model', 'NNP'), (':', ':'), ('Cobra', 'NNP'), ('1-B-1', 'JJ'), ('Bios', 'NNS'), (':', ':'), ('Cobra', 'NNP'), ('v2.20', 'NN'), ('I', 'PRP'), ('Hav', 'VBP'), (\"n't\", 'RB'), ('been', 'VBN'), ('able', 'JJ'), ('to', 'TO'), ('find', 'VB'), ('anything', 'NN'), ('about', 'IN'), ('it', 'PRP'), ('from', 'IN'), ('anyone', 'NN'), ('!', '.'), ('If', 'IN'), ('you', 'PRP'), ('have', 'VBP'), ('any', 'DT'), ('information', 'NN'), ('on', 'IN'), ('how', 'WRB'), ('to', 'TO'), ('get', 'VB'), ('a', 'DT'), ('hold', 'NN'), ('of', 'IN'), ('the', 'DT'), ('company', 'NN'), ('which', 'WDT'), ('produces', 'VBZ'), ('the', 'DT'), ('card', 'NN'), ('or', 'CC'), ('know', 'VB'), ('where', 'WRB'), ('any', 'DT'), ('drivers', 'NNS'), ('are', 'VBP'), ('for', 'IN'), ('it', 'PRP'), (',', ','), ('PLEASE', 'NNP'), ('let', 'VB'), ('me', 'PRP'), ('know', 'VB'), ('!', '.'), ('As', 'RB'), ('far', 'RB'), ('as', 'IN'), ('I', 'PRP'), ('can', 'MD'), ('tell', 'VB'), (',', ','), ('it', 'PRP'), (\"'s\", 'VBZ'), ('a', 'DT'), ('CGA', 'NNP'), ('card', 'NN'), ('that', 'WDT'), ('is', 'VBZ'), ('taking', 'VBG'), ('up', 'RP'), ('2', 'CD'), ('of', 'IN'), ('my', 'PRP$'), ('16-bit', 'JJ'), ('ISA', 'NNP'), ('slots', 'NNS'), ('but', 'CC'), ('when', 'WRB'), ('I', 'PRP'), ('enable', 'VBP'), ('the', 'DT'), ('test', 'NN'), ('patterns', 'NNS'), (',', ','), ('it', 'PRP'), ('displays', 'VBZ'), ('much', 'RB'), ('more', 'JJR'), ('than', 'IN'), ('the', 'DT'), ('usualy', 'JJ'), ('4', 'CD'), ('CGA', 'NNP'), ('colors', 'NNS'), ('...', ':'), ('At', 'IN'), ('least', 'JJS'), ('16', 'CD'), ('from', 'IN'), ('what', 'WP'), ('I', 'PRP'), ('can', 'MD'), ('count', 'VB'), ('..', 'JJ'), ('Thanks', 'NNS'), ('!', '.'), ('.', '.'), ('--', ':'), ('--', ':'), ('--', ':'), ('--', ':'), ('--', ':'), ('--', ':'), ('--', ':'), ('--', ':'), ('--', ':'), ('--', ':'), ('--', ':'), ('--', ':'), ('--', ':'), ('--', ':'), ('--', ':'), ('--', ':'), ('--', ':'), ('--', ':'), ('--', ':'), ('--', ':'), ('--', ':'), ('.', '.'), (':', ':'), ('Internet', 'NN'), (':', ':'), ('jele', 'NN'), ('@', 'VBZ'), ('eis.calstate.edu', 'NN'), (':', ':'), (':', ':'), ('bbs.mirage', 'NN'), ('@', 'JJ'), ('gilligan.tsoft.net', 'NN'), (':', ':'), (':', ':'), ('bbs.mirage', 'NN'), ('@', 'JJ'), ('tsoft.sf-bay.org', 'JJ'), (':', ':'), (':', ':'), ('mirage', 'NN'), ('@', 'JJ'), ('thetech.com', 'NN'), (':', ':'), (':', ':'), ('UUCP', 'NN'), (':', ':'), ('apple.com', 'NN'), ('!', '.'), ('tsoft', 'NN'), ('!', '.'), ('bbs.mirage', 'NN'), (':', ':'), ('`', '``'), ('--', ':'), ('--', ':'), ('--', ':'), ('--', ':'), ('--', ':'), ('--', ':'), ('--', ':'), ('--', ':'), ('--', ':'), ('--', ':'), ('--', ':'), ('--', ':'), ('--', ':'), ('--', ':'), ('--', ':'), ('--', ':'), ('--', ':'), ('--', ':'), ('--', ':'), ('--', ':'), ('--', ':'), (\"'\", 'POS'), ('Computer', 'NNP'), ('and', 'CC'), ('Video', 'NNP'), ('Imaging', 'NNP'), ('Major', 'NNP')]\n"
          ]
        }
      ]
    },
    {
      "cell_type": "markdown",
      "source": [
        "5.NAMED ENTITY RECOGNITION:"
      ],
      "metadata": {
        "id": "qErFcI5b0uls"
      }
    },
    {
      "cell_type": "code",
      "source": [
        "from nltk import ne_chunk\n",
        "ner_result = ne_chunk(pos_tags)\n",
        "print(ner_result)"
      ],
      "metadata": {
        "colab": {
          "base_uri": "https://localhost:8080/"
        },
        "id": "winz9Bkkumt1",
        "outputId": "012385b9-e472-45dc-e039-75af6d97ed9f"
      },
      "execution_count": 10,
      "outputs": [
        {
          "output_type": "stream",
          "name": "stdout",
          "text": [
            "(S\n",
            "  From/IN\n",
            "  :/:\n",
            "  bbs.mirage/NN\n",
            "  @/JJ\n",
            "  tsoft.net/NN\n",
            "  (/(\n",
            "  (PERSON Jerry/NNP Lee/NNP)\n",
            "  )/)\n",
            "  Subject/NN\n",
            "  :/:\n",
            "  Cobra/JJ\n",
            "  2.0/CD\n",
            "  1-b-1/JJ\n",
            "  Video/NNP\n",
            "  card/NN\n",
            "  (ORGANIZATION HELP/NNP)\n",
            "  ME/NNP\n",
            "  !/.\n",
            "  !/.\n",
            "  !/.\n",
            "  !/.\n",
            "  Organization/NN\n",
            "  :/:\n",
            "  The/DT\n",
            "  (ORGANIZATION TSoft/NNP)\n",
            "  BBS/NNP\n",
            "  and/CC\n",
            "  (PERSON Public/NNP Access/NNP Unix/NNP)\n",
            "  ,/,\n",
            "  +1/VBD\n",
            "  415/CD\n",
            "  969/CD\n",
            "  8238/CD\n",
            "  Lines/NNS\n",
            "  :/:\n",
            "  22/CD\n",
            "  Does/NNP\n",
            "  ANYONE/NNP\n",
            "  out/IN\n",
            "  there/RB\n",
            "  in/IN\n",
            "  (GPE Net-land/NNP)\n",
            "  have/VBP\n",
            "  any/DT\n",
            "  information/NN\n",
            "  on/IN\n",
            "  the/DT\n",
            "  Cobra/NNP\n",
            "  2.20/CD\n",
            "  card/NN\n",
            "  ?/.\n",
            "  The/DT\n",
            "  sticker/NN\n",
            "  on/IN\n",
            "  the/DT\n",
            "  end/NN\n",
            "  of/IN\n",
            "  the/DT\n",
            "  card/NN\n",
            "  reads/VBZ\n",
            "  (PERSON Model/NNP)\n",
            "  :/:\n",
            "  Cobra/NNP\n",
            "  1-B-1/JJ\n",
            "  Bios/NNS\n",
            "  :/:\n",
            "  Cobra/NNP\n",
            "  v2.20/NN\n",
            "  I/PRP\n",
            "  Hav/VBP\n",
            "  n't/RB\n",
            "  been/VBN\n",
            "  able/JJ\n",
            "  to/TO\n",
            "  find/VB\n",
            "  anything/NN\n",
            "  about/IN\n",
            "  it/PRP\n",
            "  from/IN\n",
            "  anyone/NN\n",
            "  !/.\n",
            "  If/IN\n",
            "  you/PRP\n",
            "  have/VBP\n",
            "  any/DT\n",
            "  information/NN\n",
            "  on/IN\n",
            "  how/WRB\n",
            "  to/TO\n",
            "  get/VB\n",
            "  a/DT\n",
            "  hold/NN\n",
            "  of/IN\n",
            "  the/DT\n",
            "  company/NN\n",
            "  which/WDT\n",
            "  produces/VBZ\n",
            "  the/DT\n",
            "  card/NN\n",
            "  or/CC\n",
            "  know/VB\n",
            "  where/WRB\n",
            "  any/DT\n",
            "  drivers/NNS\n",
            "  are/VBP\n",
            "  for/IN\n",
            "  it/PRP\n",
            "  ,/,\n",
            "  (ORGANIZATION PLEASE/NNP)\n",
            "  let/VB\n",
            "  me/PRP\n",
            "  know/VB\n",
            "  !/.\n",
            "  As/RB\n",
            "  far/RB\n",
            "  as/IN\n",
            "  I/PRP\n",
            "  can/MD\n",
            "  tell/VB\n",
            "  ,/,\n",
            "  it/PRP\n",
            "  's/VBZ\n",
            "  a/DT\n",
            "  (ORGANIZATION CGA/NNP)\n",
            "  card/NN\n",
            "  that/WDT\n",
            "  is/VBZ\n",
            "  taking/VBG\n",
            "  up/RP\n",
            "  2/CD\n",
            "  of/IN\n",
            "  my/PRP$\n",
            "  16-bit/JJ\n",
            "  (ORGANIZATION ISA/NNP)\n",
            "  slots/NNS\n",
            "  but/CC\n",
            "  when/WRB\n",
            "  I/PRP\n",
            "  enable/VBP\n",
            "  the/DT\n",
            "  test/NN\n",
            "  patterns/NNS\n",
            "  ,/,\n",
            "  it/PRP\n",
            "  displays/VBZ\n",
            "  much/RB\n",
            "  more/JJR\n",
            "  than/IN\n",
            "  the/DT\n",
            "  usualy/JJ\n",
            "  4/CD\n",
            "  CGA/NNP\n",
            "  colors/NNS\n",
            "  .../:\n",
            "  At/IN\n",
            "  least/JJS\n",
            "  16/CD\n",
            "  from/IN\n",
            "  what/WP\n",
            "  I/PRP\n",
            "  can/MD\n",
            "  count/VB\n",
            "  ../JJ\n",
            "  Thanks/NNS\n",
            "  !/.\n",
            "  ./.\n",
            "  --/:\n",
            "  --/:\n",
            "  --/:\n",
            "  --/:\n",
            "  --/:\n",
            "  --/:\n",
            "  --/:\n",
            "  --/:\n",
            "  --/:\n",
            "  --/:\n",
            "  --/:\n",
            "  --/:\n",
            "  --/:\n",
            "  --/:\n",
            "  --/:\n",
            "  --/:\n",
            "  --/:\n",
            "  --/:\n",
            "  --/:\n",
            "  --/:\n",
            "  --/:\n",
            "  ./.\n",
            "  :/:\n",
            "  Internet/NN\n",
            "  :/:\n",
            "  jele/NN\n",
            "  @/VBZ\n",
            "  eis.calstate.edu/NN\n",
            "  :/:\n",
            "  :/:\n",
            "  bbs.mirage/NN\n",
            "  @/JJ\n",
            "  gilligan.tsoft.net/NN\n",
            "  :/:\n",
            "  :/:\n",
            "  bbs.mirage/NN\n",
            "  @/JJ\n",
            "  tsoft.sf-bay.org/JJ\n",
            "  :/:\n",
            "  :/:\n",
            "  mirage/NN\n",
            "  @/JJ\n",
            "  thetech.com/NN\n",
            "  :/:\n",
            "  :/:\n",
            "  UUCP/NN\n",
            "  :/:\n",
            "  apple.com/NN\n",
            "  !/.\n",
            "  tsoft/NN\n",
            "  !/.\n",
            "  bbs.mirage/NN\n",
            "  :/:\n",
            "  `/``\n",
            "  --/:\n",
            "  --/:\n",
            "  --/:\n",
            "  --/:\n",
            "  --/:\n",
            "  --/:\n",
            "  --/:\n",
            "  --/:\n",
            "  --/:\n",
            "  --/:\n",
            "  --/:\n",
            "  --/:\n",
            "  --/:\n",
            "  --/:\n",
            "  --/:\n",
            "  --/:\n",
            "  --/:\n",
            "  --/:\n",
            "  --/:\n",
            "  --/:\n",
            "  --/:\n",
            "  '/POS\n",
            "  (ORGANIZATION Computer/NNP)\n",
            "  and/CC\n",
            "  (PERSON Video/NNP Imaging/NNP Major/NNP))\n"
          ]
        }
      ]
    },
    {
      "cell_type": "code",
      "source": [
        "sample_document = newsgroups.data[0]\n",
        "tokens = nltk.word_tokenize(sample_document)\n",
        "pos_tags = nltk.pos_tag(tokens)\n",
        "ner_result = nltk.ne_chunk(pos_tags)"
      ],
      "metadata": {
        "id": "Pflz50rpuquc"
      },
      "execution_count": 11,
      "outputs": []
    },
    {
      "cell_type": "markdown",
      "source": [
        "6.ENTITY EXTRACTION:"
      ],
      "metadata": {
        "id": "1XYVFBup0yzZ"
      }
    },
    {
      "cell_type": "code",
      "source": [
        "def extract_entities(named_entities, entity_type):\n",
        "    entities = [entity[0] for entity in named_entities if isinstance(entity, tuple) and entity[1] == entity_type]\n",
        "    return entities"
      ],
      "metadata": {
        "id": "lU1gDx9Ouwmk"
      },
      "execution_count": 12,
      "outputs": []
    },
    {
      "cell_type": "markdown",
      "source": [
        "7.DEFINING FUNCTION FOR QUESTION ANSWERING ALGORITHM:"
      ],
      "metadata": {
        "id": "PG1nzWUW0_1K"
      }
    },
    {
      "cell_type": "code",
      "source": [
        "def question_answering_algorithm(question, named_entities):\n",
        "    if 'software' in question.lower():\n",
        "        # Extract software-related entities\n",
        "        software_entities = extract_entities(named_entities, 'ORGANIZATION')\n",
        "        if software_entities:\n",
        "            return f\"The document mentions the following graphic design software: {', '.join(software_entities)}\"\n",
        "        else:\n",
        "            return \"No graphic design software is mentioned in the document.\"\n",
        "    else:\n",
        "        return \"I'm sorry, I can't answer that question.\""
      ],
      "metadata": {
        "id": "S9sGEeKYuzsz"
      },
      "execution_count": 13,
      "outputs": []
    },
    {
      "cell_type": "markdown",
      "source": [
        "8.OUTPUT:"
      ],
      "metadata": {
        "id": "jBr3dPmj1b_j"
      }
    },
    {
      "cell_type": "code",
      "source": [
        "question = \"What graphic design software is mentioned in the document?\"\n",
        "answer = question_answering_algorithm(question, ner_result)\n",
        "print(answer)"
      ],
      "metadata": {
        "colab": {
          "base_uri": "https://localhost:8080/"
        },
        "id": "vww5VnT3u5XU",
        "outputId": "69d36829-cded-4056-eaa6-719942d621b9"
      },
      "execution_count": 14,
      "outputs": [
        {
          "output_type": "stream",
          "name": "stdout",
          "text": [
            "No graphic design software is mentioned in the document.\n"
          ]
        }
      ]
    },
    {
      "cell_type": "markdown",
      "source": [
        "9.PLOTTING THE FREQUENCY OF NAMED ENTITIES:"
      ],
      "metadata": {
        "id": "1ZkYgs731jBK"
      }
    },
    {
      "cell_type": "code",
      "source": [
        "import matplotlib.pyplot as plt\n",
        "from collections import Counter\n",
        "\n",
        "\n",
        "named_entities = [entity for entity in ner_result if isinstance(entity, tuple)]\n",
        "entity_counts = Counter(entity[1] for entity in named_entities)\n",
        "\n",
        "plt.bar(entity_counts.keys(), entity_counts.values())\n",
        "plt.xlabel('Named Entity Types')\n",
        "plt.ylabel('Frequency')\n",
        "plt.title('Named Entity Frequency in the Document')\n",
        "plt.show()"
      ],
      "metadata": {
        "colab": {
          "base_uri": "https://localhost:8080/",
          "height": 472
        },
        "id": "qjcWb4NXyIKR",
        "outputId": "8ef5cab7-c142-4038-f0fc-7634475ba659"
      },
      "execution_count": 15,
      "outputs": [
        {
          "output_type": "display_data",
          "data": {
            "text/plain": [
              "<Figure size 640x480 with 1 Axes>"
            ],
            "image/png": "[encoded data removed]"
          },
          "metadata": {}
        }
      ]
    },
    {
      "cell_type": "markdown",
      "source": [
        "Thus, the user question answering model has been implemented successfully using transformers and named entity models."
      ],
      "metadata": {
        "id": "2uHjfews14SZ"
      }
    }
  ]
}